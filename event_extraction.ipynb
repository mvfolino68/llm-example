{
 "cells": [
  {
   "cell_type": "markdown",
   "metadata": {},
   "source": [
    "# LLM Event Extraction Demo\n",
    "\n",
    "This notebook demonstrates how to use an LLM (OpenAI's `gpt-4o`) to extract calendar event details from text. Run each cell step-by-step to see the process.\n",
    "\n",
    "**Presented:** March 08, 2025"
   ]
  },
  {
   "cell_type": "code",
   "execution_count": null,
   "metadata": {},
   "outputs": [],
   "source": [
    "# Setup: Import libraries and initialize client\n",
    "from typing import Optional\n",
    "from datetime import datetime\n",
    "from pydantic import BaseModel, Field\n",
    "from openai import OpenAI\n",
    "import os\n",
    "\n",
    "# Load API key from Codespaces Secrets or environment\n",
    "api_key = os.getenv(\"OPENAI_API_KEY\")\n",
    "if not api_key:\n",
    "    raise ValueError(\"Set OPENAI_API_KEY in Codespaces Secrets or terminal (see 1Password).\")\n",
    "client = OpenAI(api_key=api_key)\n",
    "model = \"gpt-4o\"\n",
    "print(\"Client initialized successfully!\")"
   ]
  },
  {
   "cell_type": "code",
   "execution_count": null,
   "metadata": {},
   "outputs": [],
   "source": [
    "# Step 1: Define data models\n",
    "class EventExtraction(BaseModel):\n",
    "    description: str\n",
    "    is_calendar_event: bool\n",
    "    confidence_score: float\n",
    "\n",
    "class EventDetails(BaseModel):\n",
    "    name: str\n",
    "    date: str  # ISO 8601\n",
    "    duration_minutes: int\n",
    "    participants: list[str]\n",
    "\n",
    "class EventConfirmation(BaseModel):\n",
    "    confirmation_message: str\n",
    "    calendar_link: Optional[str] = None\n",
    "\n",
    "print(\"Data models defined.\")"
   ]
  },
  {
   "cell_type": "code",
   "execution_count": null,
   "metadata": {},
   "outputs": [],
   "source": [
    "# Step 2: Extract event info\n",
    "def extract_event_info(user_input: str) -> EventExtraction:\n",
    "    today = datetime.now().strftime(\"%A, %B %d, %Y\")\n",
    "    completion = client.beta.chat.completions.parse(\n",
    "        model=model,\n",
    "        messages=[\n",
    "            {\"role\": \"system\", \"content\": f\"Today is {today}. Is this a calendar event?\"},\n",
    "            {\"role\": \"user\", \"content\": user_input},\n",
    "        ],\n",
    "        response_format=EventExtraction,\n",
    "    )\n",
    "    return completion.choices[0].message.parsed\n",
    "\n",
    "# Test it\n",
    "input_text = \"Let's schedule a 1h team meeting next Tuesday at 2pm with Alice and Bob.\"\n",
    "result = extract_event_info(input_text)\n",
    "result"
   ]
  },
  {
   "cell_type": "code",
   "execution_count": null,
   "metadata": {},
   "outputs": [],
   "source": [
    "# Step 3: Parse event details\n",
    "def parse_event_details(description: str) -> EventDetails:\n",
    "    today = datetime.now().strftime(\"%A, %B %d, %Y\")\n",
    "    completion = client.beta.chat.completions.parse(\n",
    "        model=model,\n",
    "        messages=[\n",
    "            {\"role\": \"system\", \"content\": f\"Today is {today}. Extract event details.\"},\n",
    "            {\"role\": \"user\", \"content\": description},\n",
    "        ],\n",
    "        response_format=EventDetails,\n",
    "    )\n",
    "    return completion.choices[0].message.parsed\n",
    "\n",
    "# Use previous output\n",
    "details = parse_event_details(result.description)\n",
    "details"
   ]
  },
  {
   "cell_type": "code",
   "execution_count": null,
   "metadata": {},
   "outputs": [],
   "source": [
    "# Step 4: Generate confirmation\n",
    "def generate_confirmation(event_details: EventDetails) -> EventConfirmation:\n",
    "    completion = client.beta.chat.completions.parse(\n",
    "        model=model,\n",
    "        messages=[\n",
    "            {\"role\": \"system\", \"content\": \"Generate a confirmation. Sign off with 'Susie'.\"},\n",
    "            {\"role\": \"user\", \"content\": str(event_details.model_dump())},\n",
    "        ],\n",
    "        response_format=EventConfirmation,\n",
    "    )\n",
    "    return completion.choices[0].message.parsed\n",
    "\n",
    "# Use previous output\n",
    "confirmation = generate_confirmation(details)\n",
    "confirmation"
   ]
  },
  {
   "cell_type": "code",
   "execution_count": null,
   "metadata": {},
   "outputs": [],
   "source": [
    "# Step 5: Full workflow\n",
    "def process_calendar_request(user_input: str) -> Optional[EventConfirmation]:\n",
    "    extraction = extract_event_info(user_input)\n",
    "    if not extraction.is_calendar_event or extraction.confidence_score < 0.7:\n",
    "        print(\"Not a calendar event or low confidence.\")\n",
    "        return None\n",
    "    details = parse_event_details(extraction.description)\n",
    "    return generate_confirmation(details)\n",
    "\n",
    "# Run it all\n",
    "result = process_calendar_request(input_text)\n",
    "result"
   ]
  },
  {
   "cell_type": "markdown",
   "metadata": {},
   "source": [
    "## Try Your Own!\n",
    "Edit the `input_text` variable in Step 2 and rerun the cells below it to see how it works with your input."
   ]
  }
 ],
 "metadata": {
  "kernelspec": {
   "display_name": "Python 3",
   "language": "python",
   "name": "python3"
  },
  "language_info": {
   "codemirror_mode": {
    "name": "ipython",
    "version": 3
   },
   "file_extension": ".py",
   "mimetype": "text/x-python",
   "name": "python",
   "nbconvert_exporter": "python",
   "pygments_lexer": "ipython3",
   "version": "3.11.0"
  }
 },
 "nbformat": 4,
 "nbformat_minor": 5
}
